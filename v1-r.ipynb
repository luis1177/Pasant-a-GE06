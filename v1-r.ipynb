{
 "cells": [
  {
   "cell_type": "markdown",
   "id": "a6a21f35-8597-4352-8654-9957faa1f388",
   "metadata": {},
   "source": [
    "Análisis de Satisfacción usando R"
   ]
  },
  {
   "cell_type": "code",
   "execution_count": 49,
   "id": "37de8e64-d919-4614-b612-75b11c9215e4",
   "metadata": {},
   "outputs": [],
   "source": [
    "#Librerías\n",
    "#library(DBI)\n",
    "library(RMySQL)\n",
    "library(tidyverse)\n",
    "library(ggplot2)\n",
    "library(psych)\n"
   ]
  },
  {
   "cell_type": "code",
   "execution_count": 50,
   "id": "b6985f60-e939-41ec-a092-e4c221392185",
   "metadata": {},
   "outputs": [
    {
     "name": "stdout",
     "output_type": "stream",
     "text": [
      "  sati edad proy tiem ause sanc jefe suel rota\n",
      "1   81   41    5    7    7    1    5 5000    5\n",
      "2   89   43    6    8    1    2    5 4000    8\n",
      "3   55   45    5    5    2    1    3 4000    6\n",
      "4   21   NA    3    1   10    4    3 2500    4\n",
      "5   NA   33   NA   NA    8    5   NA   NA   NA\n",
      "6   21   24    1    3    1    3    1 1500    6\n"
     ]
    },
    {
     "data": {
      "text/html": [
       "<style>\n",
       ".list-inline {list-style: none; margin:0; padding: 0}\n",
       ".list-inline>li {display: inline-block}\n",
       ".list-inline>li:not(:last-child)::after {content: \"\\00b7\"; padding: 0 .5ex}\n",
       "</style>\n",
       "<ol class=list-inline><li>125</li><li>9</li></ol>\n"
      ],
      "text/latex": [
       "\\begin{enumerate*}\n",
       "\\item 125\n",
       "\\item 9\n",
       "\\end{enumerate*}\n"
      ],
      "text/markdown": [
       "1. 125\n",
       "2. 9\n",
       "\n",
       "\n"
      ],
      "text/plain": [
       "[1] 125   9"
      ]
     },
     "metadata": {},
     "output_type": "display_data"
    }
   ],
   "source": [
    "mysqlconnection = dbConnect(RMySQL::MySQL(),\n",
    "                            dbname='sati',\n",
    "                            host='localhost',\n",
    "                            port=3306,\n",
    "                            user='root',\n",
    "                            password='DB123')\n",
    "result = dbSendQuery(mysqlconnection, \"SELECT sati,edad,proy,tiem,ause,sanc,jefe,sueld,rota FROM encuesta\")\n",
    "#listar coexiones dbListConnections( dbDriver( drv = \"MySQL\"))\n",
    "#Cerrar coexiones\n",
    "\n",
    "dat = fetch(result)\n",
    "colnames(dat) <- c('sati','edad','proy','tiem','ause','sanc','jefe','suel','rota')\n",
    "#lapply( dbListConnections( dbDriver( drv = \"MySQL\")), dbDisconnect)\n",
    "#print(dbListConnections( dbDriver( drv = \"MySQL\")))\n",
    "\n",
    "print(head(dat))\n",
    "dim(dat)"
   ]
  },
  {
   "cell_type": "code",
   "execution_count": 51,
   "id": "6e115962-8dcc-4cf4-b8c9-a7115c0352f3",
   "metadata": {},
   "outputs": [
    {
     "name": "stdout",
     "output_type": "stream",
     "text": [
      "  sati edad proy tiem ause sanc jefe suel rota\n",
      "1   81   41    5    7    7    1    5 5000    5\n",
      "2   89   43    6    8    1    2    5 4000    8\n",
      "3   55   45    5    5    2    1    3 4000    6\n",
      "4   21   24    1    3    1    3    1 1500    6\n",
      "5   71   35    7    5    4    5    4 4000    1\n",
      "6   80   42    6    7    9    4    4 5000    8\n"
     ]
    },
    {
     "data": {
      "text/html": [
       "<style>\n",
       ".list-inline {list-style: none; margin:0; padding: 0}\n",
       ".list-inline>li {display: inline-block}\n",
       ".list-inline>li:not(:last-child)::after {content: \"\\00b7\"; padding: 0 .5ex}\n",
       "</style>\n",
       "<ol class=list-inline><li>100</li><li>9</li></ol>\n"
      ],
      "text/latex": [
       "\\begin{enumerate*}\n",
       "\\item 100\n",
       "\\item 9\n",
       "\\end{enumerate*}\n"
      ],
      "text/markdown": [
       "1. 100\n",
       "2. 9\n",
       "\n",
       "\n"
      ],
      "text/plain": [
       "[1] 100   9"
      ]
     },
     "metadata": {},
     "output_type": "display_data"
    }
   ],
   "source": [
    "dat = dat[complete.cases(dat),]\n",
    "rownames(dat) <- NULL \n",
    "print(head(dat))\n",
    "dim(dat)"
   ]
  },
  {
   "cell_type": "code",
   "execution_count": 52,
   "id": "efebdb97-57bf-4443-bc0e-100e9d45bfb9",
   "metadata": {},
   "outputs": [
    {
     "data": {
      "image/png": "[encoded data removed]",
      "text/plain": [
       "Plot with title \"Porcentaje de satisfacción\""
      ]
     },
     "metadata": {
      "image/png": {
       "height": 420,
       "width": 420
      }
     },
     "output_type": "display_data"
    }
   ],
   "source": [
    "cir = dat$sati\n",
    "ins = 0\n",
    "poc = 0\n",
    "med = 0\n",
    "sat = 0\n",
    "for (i in cir){\n",
    "    if (i <= 40) {\n",
    "        ins = ins +1\n",
    "    } else if (i>40 && i<=70) {\n",
    "        poc = poc +1\n",
    "    } else if  (i>70 && i<= 80) {\n",
    "        med = med +1\n",
    "    } else {\n",
    "        sat = sat +1\n",
    "    }\n",
    "}\n",
    "\n",
    "eti = c('Satisfechos', 'Medianamente \\nSatisfechos', 'Poco Satisfechos', 'Insatisfechos')\n",
    "sizes = c(sat, med, poc, ins)\n",
    "porcen <- round(100 * sizes / sum(sizes), 3)\n",
    "\n",
    "pie(sizes,\n",
    "    labels = paste(sizes,sep=\"\",\"%\\n\",eti), \n",
    "    col = rainbow(4),main=\"Porcentaje de satisfacción\")"
   ]
  },
  {
   "cell_type": "code",
   "execution_count": 53,
   "id": "1d197f37-7288-441e-a66f-f62079bad67e",
   "metadata": {},
   "outputs": [
    {
     "data": {
      "text/html": [
       "<table class=\"dataframe\">\n",
       "<caption>A matrix: 9 × 9 of type dbl</caption>\n",
       "<thead>\n",
       "\t<tr><th></th><th scope=col>sati</th><th scope=col>edad</th><th scope=col>proy</th><th scope=col>tiem</th><th scope=col>ause</th><th scope=col>sanc</th><th scope=col>jefe</th><th scope=col>suel</th><th scope=col>rota</th></tr>\n",
       "</thead>\n",
       "<tbody>\n",
       "\t<tr><th scope=row>sati</th><td> 1.000</td><td> 0.219</td><td> 0.804</td><td>0.795</td><td> 0.205</td><td> 0.178</td><td>-0.022</td><td>0.821</td><td> 0.158</td></tr>\n",
       "\t<tr><th scope=row>edad</th><td> 0.219</td><td> 1.000</td><td> 0.204</td><td>0.299</td><td> 0.055</td><td>-0.016</td><td> 0.081</td><td>0.160</td><td> 0.056</td></tr>\n",
       "\t<tr><th scope=row>proy</th><td> 0.804</td><td> 0.204</td><td> 1.000</td><td>0.616</td><td> 0.199</td><td> 0.229</td><td>-0.018</td><td>0.634</td><td> 0.178</td></tr>\n",
       "\t<tr><th scope=row>tiem</th><td> 0.795</td><td> 0.299</td><td> 0.616</td><td>1.000</td><td> 0.180</td><td> 0.093</td><td> 0.161</td><td>0.714</td><td> 0.072</td></tr>\n",
       "\t<tr><th scope=row>ause</th><td> 0.205</td><td> 0.055</td><td> 0.199</td><td>0.180</td><td> 1.000</td><td> 0.045</td><td>-0.048</td><td>0.180</td><td> 0.118</td></tr>\n",
       "\t<tr><th scope=row>sanc</th><td> 0.178</td><td>-0.016</td><td> 0.229</td><td>0.093</td><td> 0.045</td><td> 1.000</td><td>-0.120</td><td>0.203</td><td> 0.069</td></tr>\n",
       "\t<tr><th scope=row>jefe</th><td>-0.022</td><td> 0.081</td><td>-0.018</td><td>0.161</td><td>-0.048</td><td>-0.120</td><td> 1.000</td><td>0.029</td><td>-0.041</td></tr>\n",
       "\t<tr><th scope=row>suel</th><td> 0.821</td><td> 0.160</td><td> 0.634</td><td>0.714</td><td> 0.180</td><td> 0.203</td><td> 0.029</td><td>1.000</td><td> 0.145</td></tr>\n",
       "\t<tr><th scope=row>rota</th><td> 0.158</td><td> 0.056</td><td> 0.178</td><td>0.072</td><td> 0.118</td><td> 0.069</td><td>-0.041</td><td>0.145</td><td> 1.000</td></tr>\n",
       "</tbody>\n",
       "</table>\n"
      ],
      "text/latex": [
       "A matrix: 9 × 9 of type dbl\n",
       "\\begin{tabular}{r|lllllllll}\n",
       "  & sati & edad & proy & tiem & ause & sanc & jefe & suel & rota\\\\\n",
       "\\hline\n",
       "\tsati &  1.000 &  0.219 &  0.804 & 0.795 &  0.205 &  0.178 & -0.022 & 0.821 &  0.158\\\\\n",
       "\tedad &  0.219 &  1.000 &  0.204 & 0.299 &  0.055 & -0.016 &  0.081 & 0.160 &  0.056\\\\\n",
       "\tproy &  0.804 &  0.204 &  1.000 & 0.616 &  0.199 &  0.229 & -0.018 & 0.634 &  0.178\\\\\n",
       "\ttiem &  0.795 &  0.299 &  0.616 & 1.000 &  0.180 &  0.093 &  0.161 & 0.714 &  0.072\\\\\n",
       "\tause &  0.205 &  0.055 &  0.199 & 0.180 &  1.000 &  0.045 & -0.048 & 0.180 &  0.118\\\\\n",
       "\tsanc &  0.178 & -0.016 &  0.229 & 0.093 &  0.045 &  1.000 & -0.120 & 0.203 &  0.069\\\\\n",
       "\tjefe & -0.022 &  0.081 & -0.018 & 0.161 & -0.048 & -0.120 &  1.000 & 0.029 & -0.041\\\\\n",
       "\tsuel &  0.821 &  0.160 &  0.634 & 0.714 &  0.180 &  0.203 &  0.029 & 1.000 &  0.145\\\\\n",
       "\trota &  0.158 &  0.056 &  0.178 & 0.072 &  0.118 &  0.069 & -0.041 & 0.145 &  1.000\\\\\n",
       "\\end{tabular}\n"
      ],
      "text/markdown": [
       "\n",
       "A matrix: 9 × 9 of type dbl\n",
       "\n",
       "| <!--/--> | sati | edad | proy | tiem | ause | sanc | jefe | suel | rota |\n",
       "|---|---|---|---|---|---|---|---|---|---|\n",
       "| sati |  1.000 |  0.219 |  0.804 | 0.795 |  0.205 |  0.178 | -0.022 | 0.821 |  0.158 |\n",
       "| edad |  0.219 |  1.000 |  0.204 | 0.299 |  0.055 | -0.016 |  0.081 | 0.160 |  0.056 |\n",
       "| proy |  0.804 |  0.204 |  1.000 | 0.616 |  0.199 |  0.229 | -0.018 | 0.634 |  0.178 |\n",
       "| tiem |  0.795 |  0.299 |  0.616 | 1.000 |  0.180 |  0.093 |  0.161 | 0.714 |  0.072 |\n",
       "| ause |  0.205 |  0.055 |  0.199 | 0.180 |  1.000 |  0.045 | -0.048 | 0.180 |  0.118 |\n",
       "| sanc |  0.178 | -0.016 |  0.229 | 0.093 |  0.045 |  1.000 | -0.120 | 0.203 |  0.069 |\n",
       "| jefe | -0.022 |  0.081 | -0.018 | 0.161 | -0.048 | -0.120 |  1.000 | 0.029 | -0.041 |\n",
       "| suel |  0.821 |  0.160 |  0.634 | 0.714 |  0.180 |  0.203 |  0.029 | 1.000 |  0.145 |\n",
       "| rota |  0.158 |  0.056 |  0.178 | 0.072 |  0.118 |  0.069 | -0.041 | 0.145 |  1.000 |\n",
       "\n"
      ],
      "text/plain": [
       "     sati   edad   proy   tiem  ause   sanc   jefe   suel  rota  \n",
       "sati  1.000  0.219  0.804 0.795  0.205  0.178 -0.022 0.821  0.158\n",
       "edad  0.219  1.000  0.204 0.299  0.055 -0.016  0.081 0.160  0.056\n",
       "proy  0.804  0.204  1.000 0.616  0.199  0.229 -0.018 0.634  0.178\n",
       "tiem  0.795  0.299  0.616 1.000  0.180  0.093  0.161 0.714  0.072\n",
       "ause  0.205  0.055  0.199 0.180  1.000  0.045 -0.048 0.180  0.118\n",
       "sanc  0.178 -0.016  0.229 0.093  0.045  1.000 -0.120 0.203  0.069\n",
       "jefe -0.022  0.081 -0.018 0.161 -0.048 -0.120  1.000 0.029 -0.041\n",
       "suel  0.821  0.160  0.634 0.714  0.180  0.203  0.029 1.000  0.145\n",
       "rota  0.158  0.056  0.178 0.072  0.118  0.069 -0.041 0.145  1.000"
      ]
     },
     "metadata": {},
     "output_type": "display_data"
    },
    {
     "data": {
      "image/png": "[encoded data removed]",
      "text/plain": [
       "Plot with title \"Matriz de correlación\""
      ]
     },
     "metadata": {
      "image/png": {
       "height": 420,
       "width": 420
      }
     },
     "output_type": "display_data"
    }
   ],
   "source": [
    "round(cor(dat),3)\n",
    "corPlot(dat, cex = 1.2, main = \"Matriz de correlación\")"
   ]
  },
  {
   "cell_type": "code",
   "execution_count": 54,
   "id": "a5d193ca-dd73-4987-bf9d-f272d9ae48ac",
   "metadata": {},
   "outputs": [
    {
     "data": {
      "image/png": "[encoded data removed]",
      "text/plain": [
       "Plot with title \"Sati vs Edad\""
      ]
     },
     "metadata": {
      "image/png": {
       "height": 420,
       "width": 420
      }
     },
     "output_type": "display_data"
    }
   ],
   "source": [
    "par(mfrow = c(2,2), mar = c(3, 4,2, 1))\n",
    "plot(dat$suel, dat$sati,col = \"orange\", pch = 19, main=\"Sati vs Suel\", xlab=\"\", ylab=\"\")\n",
    "plot(dat$proy, dat$sati,col = \"blue\", pch = 19, main=\"Sati vs Proy\", xlab=\"\", ylab=\"\")\n",
    "plot(dat$tiem, dat$sati,col = \"red\", pch = 19, main=\"Sati vs Tiem\", xlab=\"\", ylab=\"\")\n",
    "plot(dat$edad, dat$sati,col = \"green\", pch = 19, main=\"Sati vs Edad\", xlab=\"\", ylab=\"\")"
   ]
  },
  {
   "cell_type": "code",
   "execution_count": 55,
   "id": "1a427d18-eb97-4156-b4bb-78955487a977",
   "metadata": {},
   "outputs": [
    {
     "data": {
      "text/plain": [
       "\n",
       "Call:\n",
       "lm(formula = sati ~ proy + tiem + suel, data = dat)\n",
       "\n",
       "Residuals:\n",
       "    Min      1Q  Median      3Q     Max \n",
       "-39.851  -7.191   0.888   6.272  24.614 \n",
       "\n",
       "Coefficients:\n",
       "             Estimate Std. Error t value Pr(>|t|)    \n",
       "(Intercept) -5.085842   3.270147  -1.555    0.123    \n",
       "proy         3.872294   0.533484   7.258 1.02e-10 ***\n",
       "tiem         3.703452   0.754923   4.906 3.80e-06 ***\n",
       "suel         0.008062   0.001362   5.920 4.98e-08 ***\n",
       "---\n",
       "Signif. codes:  0 '***' 0.001 '**' 0.01 '*' 0.05 '.' 0.1 ' ' 1\n",
       "\n",
       "Residual standard error: 10.82 on 96 degrees of freedom\n",
       "Multiple R-squared:  0.8465,\tAdjusted R-squared:  0.8418 \n",
       "F-statistic: 176.5 on 3 and 96 DF,  p-value: < 2.2e-16\n"
      ]
     },
     "metadata": {},
     "output_type": "display_data"
    }
   ],
   "source": [
    "fit <- lm(sati ~ proy + tiem + suel, data=dat)\n",
    "summary(fit)"
   ]
  },
  {
   "cell_type": "code",
   "execution_count": 56,
   "id": "f0eec933-c3e2-4b16-9eac-02990db31c60",
   "metadata": {},
   "outputs": [
    {
     "data": {
      "text/html": [
       "<style>\n",
       ".dl-inline {width: auto; margin:0; padding: 0}\n",
       ".dl-inline>dt, .dl-inline>dd {float: none; width: auto; display: inline-block}\n",
       ".dl-inline>dt::after {content: \":\\0020\"; padding-right: .5ex}\n",
       ".dl-inline>dt:not(:first-of-type) {padding-left: .5ex}\n",
       "</style><dl class=dl-inline><dt>1</dt><dd>80.5098060403344</dd><dt>2</dt><dd>80.0235489374276</dd><dt>3</dt><dd>65.0408994983464</dd><dt>4</dt><dd>21.9898119308242</dd><dt>5</dt><dd>72.7854877589997</dd><dt>6</dt><dd>84.3821001706611</dd><dt>7</dt><dd>80.5098060403344</dd><dt>8</dt><dd>80.3612336589111</dd><dt>9</dt><dd>30.2206572943843</dd><dt>10</dt><dd>29.7344001914775</dd><dt>11</dt><dd>84.2335277892378</dd><dt>12</dt><dd>99.8712766919676</dd><dt>13</dt><dd>29.7344001914775</dd><dt>14</dt><dd>18.4552025219811</dd><dt>15</dt><dd>64.3858000346977</dd><dt>16</dt><dd>76.4889395285845</dd><dt>17</dt><dd>72.6369153775764</dd><dt>18</dt><dd>25.8621060611508</dd><dt>19</dt><dd>33.7755366825459</dd><dt>20</dt><dd>88.4232366617295</dd><dt>21</dt><dd>25.8621060611508</dd><dt>22</dt><dd>22.3274966523078</dd><dt>23</dt><dd>60.6823482651129</dd><dt>24</dt><dd>103.574728461552</dd><dt>25</dt><dd>68.7443512679312</dd><dt>26</dt><dd>22.158654291566</dd><dt>27</dt><dd>80.6989183803947</dd><dt>28</dt><dd>92.4643731527979</dd><dt>29</dt><dd>76.8266242500681</dd><dt>30</dt><dd>26.1997907826344</dd><dt>31</dt><dd>83.5784283255891</dd><dt>32</dt><dd>56.978896495528</dd><dt>33</dt><dd>84.8886272528865</dd><dt>34</dt><dd>84.7197848921447</dd><dt>35</dt><dd>99.7024343312258</dd><dt>36</dt><dd>68.595778886508</dd><dt>37</dt><dd>81.0163331225598</dd><dt>38</dt><dd>84.8886272528865</dd><dt>39</dt><dd>18.2863601612394</dd><dt>40</dt><dd>84.2335277892378</dd><dt>41</dt><dd>69.3994507315799</dd><dt>42</dt><dd>88.4232366617295</dd><dt>43</dt><dd>33.7755366825459</dd><dt>44</dt><dd>37.9652455550376</dd><dt>45</dt><dd>60.8511906258547</dd><dt>46</dt><dd>30.2206572943843</dd><dt>47</dt><dd>72.4680730168346</dd><dt>48</dt><dd>95.8301402008992</dd><dt>49</dt><dd>33.9241090639692</dd><dt>50</dt><dd>80.6786484010762</dd><dt>51</dt><dd>25.8621060611508</dd><dt>52</dt><dd>38.1340879157794</dd><dt>53</dt><dd>80.6786484010762</dd><dt>54</dt><dd>18.4552025219811</dd><dt>55</dt><dd>72.4680730168346</dd><dt>56</dt><dd>80.0235489374276</dd><dt>57</dt><dd>76.3200971678427</dd><dt>58</dt><dd>72.6166453982579</dd><dt>59</dt><dd>41.8375396853643</dd><dt>60</dt><dd>72.6166453982579</dd><dt>61</dt><dd>22.158654291566</dd><dt>62</dt><dd>45.5409914549491</dd><dt>63</dt><dd>26.3483631640577</dd><dt>64</dt><dd>83.7472706863309</dd><dt>65</dt><dd>37.9652455550376</dd><dt>66</dt><dd>30.0720849129611</dd><dt>67</dt><dd>87.9369795588227</dd><dt>68</dt><dd>83.5784283255891</dd><dt>69</dt><dd>72.6369153775764</dd><dt>70</dt><dd>37.9652455550376</dd><dt>71</dt><dd>87.9369795588227</dd><dt>72</dt><dd>69.0820359894148</dd><dt>73</dt><dd>99.7024343312258</dd><dt>74</dt><dd>72.4680730168346</dd><dt>75</dt><dd>84.4023701499796</dd><dt>76</dt><dd>76.0026824256776</dd><dt>77</dt><dd>95.5127254587341</dd><dt>78</dt><dd>37.7964031942958</dd><dt>79</dt><dd>68.0892518042826</dd><dt>80</dt><dd>80.0438189167461</dd><dt>81</dt><dd>72.6166453982579</dd><dt>82</dt><dd>76.4889395285845</dd><dt>83</dt><dd>88.4232366617295</dd><dt>84</dt><dd>80.5098060403344</dd><dt>85</dt><dd>22.158654291566</dd><dt>86</dt><dd>68.7646212472497</dd><dt>87</dt><dd>88.2543943009877</dd><dt>88</dt><dd>83.8958430677542</dd><dt>89</dt><dd>72.4680730168346</dd><dt>90</dt><dd>83.7472706863309</dd><dt>91</dt><dd>21.9898119308242</dd><dt>92</dt><dd>72.4478030375161</dd><dt>93</dt><dd>88.5920790224713</dd><dt>94</dt><dd>84.2335277892378</dd><dt>95</dt><dd>72.4680730168346</dd><dt>96</dt><dd>72.130388295351</dd><dt>97</dt><dd>72.4478030375161</dd><dt>98</dt><dd>88.1058219195644</dd><dt>99</dt><dd>45.5409914549491</dd><dt>100</dt><dd>22.3274966523078</dd></dl>\n"
      ],
      "text/latex": [
       "\\begin{description*}\n",
       "\\item[1] 80.5098060403344\n",
       "\\item[2] 80.0235489374276\n",
       "\\item[3] 65.0408994983464\n",
       "\\item[4] 21.9898119308242\n",
       "\\item[5] 72.7854877589997\n",
       "\\item[6] 84.3821001706611\n",
       "\\item[7] 80.5098060403344\n",
       "\\item[8] 80.3612336589111\n",
       "\\item[9] 30.2206572943843\n",
       "\\item[10] 29.7344001914775\n",
       "\\item[11] 84.2335277892378\n",
       "\\item[12] 99.8712766919676\n",
       "\\item[13] 29.7344001914775\n",
       "\\item[14] 18.4552025219811\n",
       "\\item[15] 64.3858000346977\n",
       "\\item[16] 76.4889395285845\n",
       "\\item[17] 72.6369153775764\n",
       "\\item[18] 25.8621060611508\n",
       "\\item[19] 33.7755366825459\n",
       "\\item[20] 88.4232366617295\n",
       "\\item[21] 25.8621060611508\n",
       "\\item[22] 22.3274966523078\n",
       "\\item[23] 60.6823482651129\n",
       "\\item[24] 103.574728461552\n",
       "\\item[25] 68.7443512679312\n",
       "\\item[26] 22.158654291566\n",
       "\\item[27] 80.6989183803947\n",
       "\\item[28] 92.4643731527979\n",
       "\\item[29] 76.8266242500681\n",
       "\\item[30] 26.1997907826344\n",
       "\\item[31] 83.5784283255891\n",
       "\\item[32] 56.978896495528\n",
       "\\item[33] 84.8886272528865\n",
       "\\item[34] 84.7197848921447\n",
       "\\item[35] 99.7024343312258\n",
       "\\item[36] 68.595778886508\n",
       "\\item[37] 81.0163331225598\n",
       "\\item[38] 84.8886272528865\n",
       "\\item[39] 18.2863601612394\n",
       "\\item[40] 84.2335277892378\n",
       "\\item[41] 69.3994507315799\n",
       "\\item[42] 88.4232366617295\n",
       "\\item[43] 33.7755366825459\n",
       "\\item[44] 37.9652455550376\n",
       "\\item[45] 60.8511906258547\n",
       "\\item[46] 30.2206572943843\n",
       "\\item[47] 72.4680730168346\n",
       "\\item[48] 95.8301402008992\n",
       "\\item[49] 33.9241090639692\n",
       "\\item[50] 80.6786484010762\n",
       "\\item[51] 25.8621060611508\n",
       "\\item[52] 38.1340879157794\n",
       "\\item[53] 80.6786484010762\n",
       "\\item[54] 18.4552025219811\n",
       "\\item[55] 72.4680730168346\n",
       "\\item[56] 80.0235489374276\n",
       "\\item[57] 76.3200971678427\n",
       "\\item[58] 72.6166453982579\n",
       "\\item[59] 41.8375396853643\n",
       "\\item[60] 72.6166453982579\n",
       "\\item[61] 22.158654291566\n",
       "\\item[62] 45.5409914549491\n",
       "\\item[63] 26.3483631640577\n",
       "\\item[64] 83.7472706863309\n",
       "\\item[65] 37.9652455550376\n",
       "\\item[66] 30.0720849129611\n",
       "\\item[67] 87.9369795588227\n",
       "\\item[68] 83.5784283255891\n",
       "\\item[69] 72.6369153775764\n",
       "\\item[70] 37.9652455550376\n",
       "\\item[71] 87.9369795588227\n",
       "\\item[72] 69.0820359894148\n",
       "\\item[73] 99.7024343312258\n",
       "\\item[74] 72.4680730168346\n",
       "\\item[75] 84.4023701499796\n",
       "\\item[76] 76.0026824256776\n",
       "\\item[77] 95.5127254587341\n",
       "\\item[78] 37.7964031942958\n",
       "\\item[79] 68.0892518042826\n",
       "\\item[80] 80.0438189167461\n",
       "\\item[81] 72.6166453982579\n",
       "\\item[82] 76.4889395285845\n",
       "\\item[83] 88.4232366617295\n",
       "\\item[84] 80.5098060403344\n",
       "\\item[85] 22.158654291566\n",
       "\\item[86] 68.7646212472497\n",
       "\\item[87] 88.2543943009877\n",
       "\\item[88] 83.8958430677542\n",
       "\\item[89] 72.4680730168346\n",
       "\\item[90] 83.7472706863309\n",
       "\\item[91] 21.9898119308242\n",
       "\\item[92] 72.4478030375161\n",
       "\\item[93] 88.5920790224713\n",
       "\\item[94] 84.2335277892378\n",
       "\\item[95] 72.4680730168346\n",
       "\\item[96] 72.130388295351\n",
       "\\item[97] 72.4478030375161\n",
       "\\item[98] 88.1058219195644\n",
       "\\item[99] 45.5409914549491\n",
       "\\item[100] 22.3274966523078\n",
       "\\end{description*}\n"
      ],
      "text/markdown": [
       "1\n",
       ":   80.50980604033442\n",
       ":   80.02354893742763\n",
       ":   65.04089949834644\n",
       ":   21.98981193082425\n",
       ":   72.78548775899976\n",
       ":   84.38210017066117\n",
       ":   80.50980604033448\n",
       ":   80.36123365891119\n",
       ":   30.220657294384310\n",
       ":   29.734400191477511\n",
       ":   84.233527789237812\n",
       ":   99.871276691967613\n",
       ":   29.734400191477514\n",
       ":   18.455202521981115\n",
       ":   64.385800034697716\n",
       ":   76.488939528584517\n",
       ":   72.636915377576418\n",
       ":   25.862106061150819\n",
       ":   33.775536682545920\n",
       ":   88.423236661729521\n",
       ":   25.862106061150822\n",
       ":   22.327496652307823\n",
       ":   60.682348265112924\n",
       ":   103.57472846155225\n",
       ":   68.744351267931226\n",
       ":   22.15865429156627\n",
       ":   80.698918380394728\n",
       ":   92.464373152797929\n",
       ":   76.826624250068130\n",
       ":   26.199790782634431\n",
       ":   83.578428325589132\n",
       ":   56.97889649552833\n",
       ":   84.888627252886534\n",
       ":   84.719784892144735\n",
       ":   99.702434331225836\n",
       ":   68.59577888650837\n",
       ":   81.016333122559838\n",
       ":   84.888627252886539\n",
       ":   18.286360161239440\n",
       ":   84.233527789237841\n",
       ":   69.399450731579942\n",
       ":   88.423236661729543\n",
       ":   33.775536682545944\n",
       ":   37.965245555037645\n",
       ":   60.851190625854746\n",
       ":   30.220657294384347\n",
       ":   72.468073016834648\n",
       ":   95.830140200899249\n",
       ":   33.924109063969250\n",
       ":   80.678648401076251\n",
       ":   25.862106061150852\n",
       ":   38.134087915779453\n",
       ":   80.678648401076254\n",
       ":   18.455202521981155\n",
       ":   72.468073016834656\n",
       ":   80.023548937427657\n",
       ":   76.320097167842758\n",
       ":   72.616645398257959\n",
       ":   41.837539685364360\n",
       ":   72.616645398257961\n",
       ":   22.15865429156662\n",
       ":   45.540991454949163\n",
       ":   26.348363164057764\n",
       ":   83.747270686330965\n",
       ":   37.965245555037666\n",
       ":   30.072084912961167\n",
       ":   87.936979558822768\n",
       ":   83.578428325589169\n",
       ":   72.636915377576470\n",
       ":   37.965245555037671\n",
       ":   87.936979558822772\n",
       ":   69.082035989414873\n",
       ":   99.702434331225874\n",
       ":   72.468073016834675\n",
       ":   84.402370149979676\n",
       ":   76.002682425677677\n",
       ":   95.512725458734178\n",
       ":   37.796403194295879\n",
       ":   68.089251804282680\n",
       ":   80.043818916746181\n",
       ":   72.616645398257982\n",
       ":   76.488939528584583\n",
       ":   88.423236661729584\n",
       ":   80.509806040334485\n",
       ":   22.15865429156686\n",
       ":   68.764621247249787\n",
       ":   88.254394300987788\n",
       ":   83.895843067754289\n",
       ":   72.468073016834690\n",
       ":   83.747270686330991\n",
       ":   21.989811930824292\n",
       ":   72.447803037516193\n",
       ":   88.592079022471394\n",
       ":   84.233527789237895\n",
       ":   72.468073016834696\n",
       ":   72.13038829535197\n",
       ":   72.447803037516198\n",
       ":   88.105821919564499\n",
       ":   45.5409914549491100\n",
       ":   22.3274966523078\n",
       "\n"
      ],
      "text/plain": [
       "        1         2         3         4         5         6         7         8 \n",
       " 80.50981  80.02355  65.04090  21.98981  72.78549  84.38210  80.50981  80.36123 \n",
       "        9        10        11        12        13        14        15        16 \n",
       " 30.22066  29.73440  84.23353  99.87128  29.73440  18.45520  64.38580  76.48894 \n",
       "       17        18        19        20        21        22        23        24 \n",
       " 72.63692  25.86211  33.77554  88.42324  25.86211  22.32750  60.68235 103.57473 \n",
       "       25        26        27        28        29        30        31        32 \n",
       " 68.74435  22.15865  80.69892  92.46437  76.82662  26.19979  83.57843  56.97890 \n",
       "       33        34        35        36        37        38        39        40 \n",
       " 84.88863  84.71978  99.70243  68.59578  81.01633  84.88863  18.28636  84.23353 \n",
       "       41        42        43        44        45        46        47        48 \n",
       " 69.39945  88.42324  33.77554  37.96525  60.85119  30.22066  72.46807  95.83014 \n",
       "       49        50        51        52        53        54        55        56 \n",
       " 33.92411  80.67865  25.86211  38.13409  80.67865  18.45520  72.46807  80.02355 \n",
       "       57        58        59        60        61        62        63        64 \n",
       " 76.32010  72.61665  41.83754  72.61665  22.15865  45.54099  26.34836  83.74727 \n",
       "       65        66        67        68        69        70        71        72 \n",
       " 37.96525  30.07208  87.93698  83.57843  72.63692  37.96525  87.93698  69.08204 \n",
       "       73        74        75        76        77        78        79        80 \n",
       " 99.70243  72.46807  84.40237  76.00268  95.51273  37.79640  68.08925  80.04382 \n",
       "       81        82        83        84        85        86        87        88 \n",
       " 72.61665  76.48894  88.42324  80.50981  22.15865  68.76462  88.25439  83.89584 \n",
       "       89        90        91        92        93        94        95        96 \n",
       " 72.46807  83.74727  21.98981  72.44780  88.59208  84.23353  72.46807  72.13039 \n",
       "       97        98        99       100 \n",
       " 72.44780  88.10582  45.54099  22.32750 "
      ]
     },
     "metadata": {},
     "output_type": "display_data"
    }
   ],
   "source": [
    "predict(fit,dat)"
   ]
  },
  {
   "cell_type": "code",
   "execution_count": 57,
   "id": "4d69c70c-6875-46b4-8895-ec3b972bec36",
   "metadata": {},
   "outputs": [
    {
     "data": {
      "image/png": "[encoded data removed]",
      "text/plain": [
       "plot without title"
      ]
     },
     "metadata": {
      "image/png": {
       "height": 420,
       "width": 420
      }
     },
     "output_type": "display_data"
    }
   ],
   "source": [
    "pairs(dat[,1:9], pch = 19, lower.panel = NULL)"
   ]
  },
  {
   "cell_type": "code",
   "execution_count": 58,
   "id": "e4bc7148-9df3-4302-9f2b-54a308dd8c84",
   "metadata": {},
   "outputs": [
    {
     "data": {
      "image/png": "[encoded data removed]",
      "text/plain": [
       "plot without title"
      ]
     },
     "metadata": {
      "image/png": {
       "height": 420,
       "width": 420
      }
     },
     "output_type": "display_data"
    }
   ],
   "source": [
    "boxplot(dat$sati~dat$tiem)"
   ]
  },
  {
   "cell_type": "code",
   "execution_count": 62,
   "id": "2173f31c-04b9-4e2f-8909-705670deecd2",
   "metadata": {},
   "outputs": [
    {
     "data": {
      "text/html": [
       "<table class=\"dataframe\">\n",
       "<caption>A data.frame: 5 × 4</caption>\n",
       "<thead>\n",
       "\t<tr><th></th><th scope=col>Nombre</th><th scope=col>Satisfacción</th><th scope=col>Email</th><th scope=col>Celular</th></tr>\n",
       "\t<tr><th></th><th scope=col>&lt;chr&gt;</th><th scope=col>&lt;int&gt;</th><th scope=col>&lt;chr&gt;</th><th scope=col>&lt;int&gt;</th></tr>\n",
       "</thead>\n",
       "<tbody>\n",
       "\t<tr><th scope=row>1</th><td>Alden Weaver </td><td>21</td><td>aldenweaver1551@entelgy.com </td><td>907515947</td></tr>\n",
       "\t<tr><th scope=row>2</th><td>Hollee Combs </td><td>21</td><td>holleecombs478@entelgy.com  </td><td>977232865</td></tr>\n",
       "\t<tr><th scope=row>3</th><td>Xavier Stein </td><td>22</td><td>xavierstein@entelgy.com     </td><td>995240878</td></tr>\n",
       "\t<tr><th scope=row>4</th><td>Odessa Mathis</td><td>12</td><td>odessamathis4088@entelgy.com</td><td>945330377</td></tr>\n",
       "\t<tr><th scope=row>5</th><td>Jasmine Brown</td><td>32</td><td>jasminebrown3893@entelgy.com</td><td>993767387</td></tr>\n",
       "</tbody>\n",
       "</table>\n"
      ],
      "text/latex": [
       "A data.frame: 5 × 4\n",
       "\\begin{tabular}{r|llll}\n",
       "  & Nombre & Satisfacción & Email & Celular\\\\\n",
       "  & <chr> & <int> & <chr> & <int>\\\\\n",
       "\\hline\n",
       "\t1 & Alden Weaver  & 21 & aldenweaver1551@entelgy.com  & 907515947\\\\\n",
       "\t2 & Hollee Combs  & 21 & holleecombs478@entelgy.com   & 977232865\\\\\n",
       "\t3 & Xavier Stein  & 22 & xavierstein@entelgy.com      & 995240878\\\\\n",
       "\t4 & Odessa Mathis & 12 & odessamathis4088@entelgy.com & 945330377\\\\\n",
       "\t5 & Jasmine Brown & 32 & jasminebrown3893@entelgy.com & 993767387\\\\\n",
       "\\end{tabular}\n"
      ],
      "text/markdown": [
       "\n",
       "A data.frame: 5 × 4\n",
       "\n",
       "| <!--/--> | Nombre &lt;chr&gt; | Satisfacción &lt;int&gt; | Email &lt;chr&gt; | Celular &lt;int&gt; |\n",
       "|---|---|---|---|---|\n",
       "| 1 | Alden Weaver  | 21 | aldenweaver1551@entelgy.com  | 907515947 |\n",
       "| 2 | Hollee Combs  | 21 | holleecombs478@entelgy.com   | 977232865 |\n",
       "| 3 | Xavier Stein  | 22 | xavierstein@entelgy.com      | 995240878 |\n",
       "| 4 | Odessa Mathis | 12 | odessamathis4088@entelgy.com | 945330377 |\n",
       "| 5 | Jasmine Brown | 32 | jasminebrown3893@entelgy.com | 993767387 |\n",
       "\n"
      ],
      "text/plain": [
       "  Nombre        Satisfacción Email                        Celular  \n",
       "1 Alden Weaver  21           aldenweaver1551@entelgy.com  907515947\n",
       "2 Hollee Combs  21           holleecombs478@entelgy.com   977232865\n",
       "3 Xavier Stein  22           xavierstein@entelgy.com      995240878\n",
       "4 Odessa Mathis 12           odessamathis4088@entelgy.com 945330377\n",
       "5 Jasmine Brown 32           jasminebrown3893@entelgy.com 993767387"
      ]
     },
     "metadata": {},
     "output_type": "display_data"
    },
    {
     "data": {
      "text/html": [
       "<style>\n",
       ".list-inline {list-style: none; margin:0; padding: 0}\n",
       ".list-inline>li {display: inline-block}\n",
       ".list-inline>li:not(:last-child)::after {content: \"\\00b7\"; padding: 0 .5ex}\n",
       "</style>\n",
       "<ol class=list-inline><li>30</li><li>4</li></ol>\n"
      ],
      "text/latex": [
       "\\begin{enumerate*}\n",
       "\\item 30\n",
       "\\item 4\n",
       "\\end{enumerate*}\n"
      ],
      "text/markdown": [
       "1. 30\n",
       "2. 4\n",
       "\n",
       "\n"
      ],
      "text/plain": [
       "[1] 30  4"
      ]
     },
     "metadata": {},
     "output_type": "display_data"
    }
   ],
   "source": [
    "result = dbSendQuery(mysqlconnection, \"SELECT nombre, sati, correo, numero \n",
    "                                        FROM encuesta \n",
    "                                        INNER JOIN trabajadores ON TRABAJADORES_ID = trabajadores.ID \n",
    "                                        WHERE sati <= 40\")\n",
    "#listar coexiones dbListConnections( dbDriver( drv = \"MySQL\"))\n",
    "#Cerrar coexiones\n",
    "\n",
    "insat = fetch(result)\n",
    "colnames(insat) <- c('Nombre','Satisfacción','Email','Celular')\n",
    "#lapply( dbListConnections( dbDriver( drv = \"MySQL\")), dbDisconnect)\n",
    "#print(dbListConnections( dbDriver( drv = \"MySQL\")))\n",
    "\n",
    "head(insat,5)\n",
    "dim(insat)"
   ]
  },
  {
   "cell_type": "code",
   "execution_count": 63,
   "id": "b11896ab-1e7a-4905-95ee-d343deec3e40",
   "metadata": {},
   "outputs": [
    {
     "name": "stderr",
     "output_type": "stream",
     "text": [
      "Warning message:\n",
      "\"Closing open result sets\"\n",
      "Warning message:\n",
      "\"Closing open result sets\"\n"
     ]
    },
    {
     "data": {
      "text/html": [
       "<ol>\n",
       "\t<li>TRUE</li>\n",
       "\t<li>TRUE</li>\n",
       "</ol>\n"
      ],
      "text/latex": [
       "\\begin{enumerate}\n",
       "\\item TRUE\n",
       "\\item TRUE\n",
       "\\end{enumerate}\n"
      ],
      "text/markdown": [
       "1. TRUE\n",
       "2. TRUE\n",
       "\n",
       "\n"
      ],
      "text/plain": [
       "[[1]]\n",
       "[1] TRUE\n",
       "\n",
       "[[2]]\n",
       "[1] TRUE\n"
      ]
     },
     "metadata": {},
     "output_type": "display_data"
    }
   ],
   "source": [
    "lapply( dbListConnections( dbDriver( drv = \"MySQL\")), dbDisconnect)"
   ]
  },
  {
   "cell_type": "code",
   "execution_count": null,
   "id": "2aaf7dc9-18bc-4256-adb0-f60ec473faef",
   "metadata": {},
   "outputs": [],
   "source": []
  }
 ],
 "metadata": {
  "kernelspec": {
   "display_name": "R",
   "language": "R",
   "name": "ir"
  },
  "language_info": {
   "codemirror_mode": "r",
   "file_extension": ".r",
   "mimetype": "text/x-r-source",
   "name": "R",
   "pygments_lexer": "r",
   "version": "4.2.1"
  }
 },
 "nbformat": 4,
 "nbformat_minor": 5
}
